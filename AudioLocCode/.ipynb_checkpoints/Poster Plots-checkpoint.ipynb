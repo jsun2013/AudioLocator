{
 "cells": [
  {
   "cell_type": "code",
   "execution_count": 1,
   "metadata": {
    "collapsed": false
   },
   "outputs": [
    {
     "name": "stdout",
     "output_type": "stream",
     "text": [
      "\n"
     ]
    }
   ],
   "source": [
    "import os\n",
    "import numpy as np\n",
    "import pickle\n",
    "import matplotlib.pyplot as plt\n",
    "from mpl_toolkits.mplot3d import Axes3D\n",
    "from mpl_toolkits import mplot3d\n",
    "%matplotlib inline \n",
    "import seaborn as sns\n",
    "import pandas as pd\n",
    "sns.set_style(\"whitegrid\")\n",
    "sns.set_context(\"poster\")\n",
    "from sklearn import linear_model,svm,ensemble,tree\n",
    "\n",
    "# special matplotlib argument for improved plots\n",
    "from matplotlib import rcParams\n",
    "\n",
    "import samples\n",
    "reload(samples)\n",
    "import spectral\n",
    "reload(spectral)\n",
    "import audiolearning\n",
    "reload(audiolearning)\n",
    "import mytimer as mt\n",
    "reload(mt)\n",
    "print"
   ]
  },
  {
   "cell_type": "code",
   "execution_count": 2,
   "metadata": {
    "collapsed": true
   },
   "outputs": [],
   "source": [
    "FFT_BINS = 60;\n",
    "FWIN = 25;\n",
    "TWIN = 1;\n",
    "NPERSEG = 1024;\n",
    "TSUB = 1; #NOTE: this will be used only for training. Will experiment with test format later.\n",
    "NSUB = 10;\n",
    "#Last day of 'training' data\n",
    "MONTH = 6;\n",
    "DAY = 2;"
   ]
  },
  {
   "cell_type": "code",
   "execution_count": 4,
   "metadata": {
    "collapsed": false
   },
   "outputs": [
    {
     "name": "stdout",
     "output_type": "stream",
     "text": [
      "Imported 1507 Supersamples\n"
     ]
    }
   ],
   "source": [
    "all_samples = samples.getAllSamples(Tsub=TSUB,Nsub=NSUB,READ_IN=False)"
   ]
  },
  {
   "cell_type": "code",
   "execution_count": 5,
   "metadata": {
    "collapsed": true
   },
   "outputs": [],
   "source": [
    "class phi_sped_mfcc:\n",
    "    LEN = 0;\n",
    "    def __init__(self,fft_bins):\n",
    "        #self.LEN = fft_bins;\n",
    "        self.LEN = fft_bins+13;\n",
    "        self.fft_bins = fft_bins;\n",
    "\n",
    "    def get_phi(self,sample):\n",
    "        '''\n",
    "        Takes in a super_sample and returns a feature array. Breaks the super_sample\n",
    "        down into samples. Each row of the returned value corresponds to a sample\n",
    "        in the super sample.\n",
    "        '''\n",
    "\n",
    "        XSPED = spectral.getSupersampleSPED(sample,self.fft_bins,fwin=FWIN,twin = TWIN,nperseg = NPERSEG,spacing=\"log\")\n",
    "        XMFCC = spectral.getSampleMFCC(sample)\n",
    "        return np.hstack((XMFCC,XSPED))"
   ]
  },
  {
   "cell_type": "code",
   "execution_count": 6,
   "metadata": {
    "collapsed": true
   },
   "outputs": [],
   "source": [
    "data_file = 'AllSamples%02i%02i_%i_%i_%i_%i_%i_%i.pkl'%(MONTH,DAY,TSUB,NSUB,FFT_BINS,FWIN,TWIN,NPERSEG)\n",
    "myPhi = phi_sped_mfcc(FFT_BINS)\n",
    "extractor = audiolearning.Classifier(myPhi)"
   ]
  },
  {
   "cell_type": "code",
   "execution_count": 7,
   "metadata": {
    "collapsed": false
   },
   "outputs": [
    {
     "name": "stdout",
     "output_type": "stream",
     "text": [
      "Running feature extraction...\n",
      "0%...\n",
      "9%...\n",
      "19%...\n",
      "29%...\n",
      "39%...\n",
      "49%...\n",
      "59%...\n",
      "69%...\n",
      "79%...\n",
      "89%...\n",
      "99%...\n"
     ]
    }
   ],
   "source": [
    "if os.path.exists(data_file):\n",
    "    with open(data_file,\"rb\") as myPkl:\n",
    "        allData = pickle.load(myPkl)\n",
    "        Y_compact = allData.Y\n",
    "        phi_X = allData.X_flat\n",
    "        Y_flat = allData.Y_flat\n",
    "else:\n",
    "    (X_compact,Y_compact) = extractor.extract_features(all_samples)\n",
    "    m, nsub, nfeat = np.shape(X_compact)\n",
    "    phi_X = np.reshape(X_compact,(m*nsub,nfeat))\n",
    "    Y_flat = np.repeat(Y_compact,nsub)    \n",
    "    allData = samples.DataPhi()\n",
    "    allData.X = X_compact\n",
    "    allData.Y = Y_compact\n",
    "    allData.X_flat = phi_X\n",
    "    allData.Y_flat = Y_flat\n",
    "    with open(data_file,'wb') as f:\n",
    "        pickle.dump(allData,f)"
   ]
  },
  {
   "cell_type": "code",
   "execution_count": 9,
   "metadata": {
    "collapsed": false
   },
   "outputs": [
    {
     "data": {
      "text/plain": [
       "1507"
      ]
     },
     "execution_count": 9,
     "metadata": {},
     "output_type": "execute_result"
    }
   ],
   "source": [
    "len(all_samples)"
   ]
  },
  {
   "cell_type": "code",
   "execution_count": 24,
   "metadata": {
    "collapsed": false
   },
   "outputs": [],
   "source": [
    "mfcc50  = spectral.getSignalMFCC(all_samples[50].getData())\n",
    "mfcc15  = spectral.getSignalMFCC(all_samples[15].getData())"
   ]
  },
  {
   "cell_type": "code",
   "execution_count": 23,
   "metadata": {
    "collapsed": false
   },
   "outputs": [
    {
     "data": {
      "text/plain": [
       "'recording-20160515-185831.wav'"
      ]
     },
     "execution_count": 23,
     "metadata": {},
     "output_type": "execute_result"
    }
   ],
   "source": [
    "all_samples[15].filename"
   ]
  },
  {
   "cell_type": "code",
   "execution_count": 25,
   "metadata": {
    "collapsed": false
   },
   "outputs": [
    {
     "data": {
      "text/plain": [
       "<Container object of 3 artists>"
      ]
     },
     "execution_count": 25,
     "metadata": {},
     "output_type": "execute_result"
    },
    {
     "data": {
      "image/png": "[encoded data removed]",
      "text/plain": [
       "<matplotlib.figure.Figure at 0xab24320>"
      ]
     },
     "metadata": {},
     "output_type": "display_data"
    }
   ],
   "source": [
    "plt.stem(range(1,13),mfcc50[1:])\n",
    "plt.stem(range(1,13),mfcc15[1:],'-.',markerfmt ='*',markerfacecolor='r')"
   ]
  },
  {
   "cell_type": "code",
   "execution_count": 31,
   "metadata": {
    "collapsed": false
   },
   "outputs": [],
   "source": [
    "mfcc407 = spectral.getSignalMFCC(all_samples[407].getData())"
   ]
  },
  {
   "cell_type": "code",
   "execution_count": 32,
   "metadata": {
    "collapsed": false
   },
   "outputs": [],
   "source": [
    "mfcc500 = spectral.getSignalMFCC(all_samples[500].getData())"
   ]
  },
  {
   "cell_type": "code",
   "execution_count": 33,
   "metadata": {
    "collapsed": false
   },
   "outputs": [
    {
     "data": {
      "text/plain": [
       "<Container object of 3 artists>"
      ]
     },
     "execution_count": 33,
     "metadata": {},
     "output_type": "execute_result"
    },
    {
     "data": {
      "image/png": "[encoded data removed]",
      "text/plain": [
       "<matplotlib.figure.Figure at 0xb2bb400>"
      ]
     },
     "metadata": {},
     "output_type": "display_data"
    }
   ],
   "source": [
    "plt.stem(range(1,13),mfcc407[1:])\n",
    "plt.stem(range(1,13),mfcc500[1:],'-.',markerfmt ='*',markerfacecolor='r')"
   ]
  },
  {
   "cell_type": "code",
   "execution_count": 34,
   "metadata": {
    "collapsed": false
   },
   "outputs": [
    {
     "data": {
      "text/plain": [
       "'G:\\\\Google_Drive\\\\AudioLocator\\\\Recordings\\\\Bytes\\\\recording-20160531-111802.wav'"
      ]
     },
     "execution_count": 34,
     "metadata": {},
     "output_type": "execute_result"
    }
   ],
   "source": [
    "all_samples[407].path"
   ]
  },
  {
   "cell_type": "code",
   "execution_count": 35,
   "metadata": {
    "collapsed": false
   },
   "outputs": [
    {
     "data": {
      "text/plain": [
       "'G:\\\\Google_Drive\\\\AudioLocator\\\\Recordings\\\\Circle\\\\recording-20160525-181302.wav'"
      ]
     },
     "execution_count": 35,
     "metadata": {},
     "output_type": "execute_result"
    }
   ],
   "source": [
    "all_samples[500].path"
   ]
  },
  {
   "cell_type": "code",
   "execution_count": 36,
   "metadata": {
    "collapsed": true
   },
   "outputs": [],
   "source": [
    "svm_clf = audiolearning.Classifier(myPhi)"
   ]
  },
  {
   "cell_type": "code",
   "execution_count": 38,
   "metadata": {
    "collapsed": false
   },
   "outputs": [],
   "source": [
    "(X_train,Y_train,X_test,Y_test) = audiolearning.train_test_split_audio(X_compact,Y_compact)"
   ]
  },
  {
   "cell_type": "code",
   "execution_count": 40,
   "metadata": {
    "collapsed": false
   },
   "outputs": [
    {
     "data": {
      "text/plain": [
       "(1055L, 10L, 73L)"
      ]
     },
     "execution_count": 40,
     "metadata": {},
     "output_type": "execute_result"
    }
   ],
   "source": [
    "X_train.shape"
   ]
  },
  {
   "cell_type": "code",
   "execution_count": 131,
   "metadata": {
    "collapsed": false
   },
   "outputs": [
    {
     "name": "stdout",
     "output_type": "stream",
     "text": [
      "Finished Training Classifier with Training Error:---------------\n",
      "Error for region 0: 0.0000\n",
      "Error for region 1: 0.0194\n",
      "Error for region 2: 0.0000\n",
      "Error for region 3: 0.0000\n",
      "Error for region 4: 0.0000\n",
      "Error for region 5: 0.0115\n",
      "Error for region 6: 0.0000\n",
      "---- Total Training Error: 0.0040\n"
     ]
    },
    {
     "data": {
      "text/plain": [
       "0.003968253968253954"
      ]
     },
     "execution_count": 131,
     "metadata": {},
     "output_type": "execute_result"
    }
   ],
   "source": [
    "svm_clf.trainSVMBatch(train_samples=None, X_train=X_train,Y_train=Y_train,C=5,gamma=0.001)"
   ]
  },
  {
   "cell_type": "code",
   "execution_count": 132,
   "metadata": {
    "collapsed": false
   },
   "outputs": [
    {
     "name": "stdout",
     "output_type": "stream",
     "text": [
      "-----------------------------------------------------\n",
      "-------------------Testing Error:-------------------\n",
      "Error for region 0: 0.0339\n",
      "Error for region 1: 0.1702\n",
      "Error for region 2: 0.0000\n",
      "Error for region 3: 0.0000\n",
      "Error for region 4: 0.0222\n",
      "Error for region 5: 0.2889\n",
      "Error for region 6: 0.0465\n",
      "---- Total Testing Error: 0.0802\n"
     ]
    }
   ],
   "source": [
    "(err,conf_mat) = svm_clf.testClassifier(test_samples=None,X_test=X_test,Y_test=Y_test,get_conf_mat=True)"
   ]
  },
  {
   "cell_type": "code",
   "execution_count": 133,
   "metadata": {
    "collapsed": false
   },
   "outputs": [
    {
     "name": "stdout",
     "output_type": "stream",
     "text": [
      "[[ 0.96610169  0.01694915  0.          0.01694915  0.          0.          0.        ]\n",
      " [ 0.06382979  0.82978723  0.          0.04255319  0.0212766   0.04255319  0.        ]\n",
      " [ 0.          0.          1.          0.          0.          0.          0.        ]\n",
      " [ 0.          0.          0.          1.          0.          0.          0.        ]\n",
      " [ 0.          0.          0.          0.          0.97777778  0.          0.02222222]\n",
      " [ 0.08888889  0.17777778  0.          0.02222222  0.          0.71111111  0.        ]\n",
      " [ 0.          0.          0.02325581  0.          0.          0.02325581  0.95348837]]\n"
     ]
    }
   ],
   "source": [
    "cm = conf_mat\n",
    "print cm.astype('float') / cm.sum(axis=1)[:, np.newaxis]"
   ]
  },
  {
   "cell_type": "code",
   "execution_count": 134,
   "metadata": {
    "collapsed": true
   },
   "outputs": [],
   "source": [
    "np.set_printoptions(linewidth=150)"
   ]
  },
  {
   "cell_type": "code",
   "execution_count": 135,
   "metadata": {
    "collapsed": false
   },
   "outputs": [
    {
     "name": "stdout",
     "output_type": "stream",
     "text": [
      "[[ 0.9661  0.0169  0.      0.0169  0.      0.      0.    ]\n",
      " [ 0.0638  0.8298  0.      0.0426  0.0213  0.0426  0.    ]\n",
      " [ 0.      0.      1.      0.      0.      0.      0.    ]\n",
      " [ 0.      0.      0.      1.      0.      0.      0.    ]\n",
      " [ 0.      0.      0.      0.      0.9778  0.      0.0222]\n",
      " [ 0.0889  0.1778  0.      0.0222  0.      0.7111  0.    ]\n",
      " [ 0.      0.      0.0233  0.      0.      0.0233  0.9535]]\n"
     ]
    }
   ],
   "source": [
    "print np.round(cm.astype('float') / cm.sum(axis=1)[:, np.newaxis],4)"
   ]
  },
  {
   "cell_type": "markdown",
   "metadata": {},
   "source": [
    "\\begin{bmatrix}\n",
    " 0.9661 & 0.0169 & 0.     & 0.0169 & 0.     & 0.     & 0.    \\\\\n",
    " 0.0638 & 0.8298 & 0.     & 0.0426 & 0.0213 & 0.0426 & 0.    \\\\\n",
    " 0.     & 0.     & 1.     & 0.     & 0.     & 0.     & 0.    \\\\\n",
    " 0.     & 0.     & 0.     & 1.     & 0.     & 0.     & 0.    \\\\\n",
    " 0.     & 0.     & 0.     & 0.     & 0.9778 & 0.     & 0.0222\\\\\n",
    " 0.0889 & 0.1778 & 0.     & 0.0222 & 0.     & 0.7111 & 0.    \\\\\n",
    " 0.     & 0.     & 0.0233 & 0.     & 0.     & 0.0233 & 0.9535\n",
    "\\end{bmatrix}"
   ]
  },
  {
   "cell_type": "code",
   "execution_count": 75,
   "metadata": {
    "collapsed": false
   },
   "outputs": [
    {
     "data": {
      "text/plain": [
       "(1507L, 10L, 73L)"
      ]
     },
     "execution_count": 75,
     "metadata": {},
     "output_type": "execute_result"
    }
   ],
   "source": [
    "X_compact.shape"
   ]
  },
  {
   "cell_type": "code",
   "execution_count": 76,
   "metadata": {
    "collapsed": false
   },
   "outputs": [
    {
     "data": {
      "text/plain": [
       "1507"
      ]
     },
     "execution_count": 76,
     "metadata": {},
     "output_type": "execute_result"
    }
   ],
   "source": [
    "len(all_samples)"
   ]
  },
  {
   "cell_type": "code",
   "execution_count": 80,
   "metadata": {
    "collapsed": false
   },
   "outputs": [],
   "source": [
    "temp = [x.date for x in all_samples]"
   ]
  },
  {
   "cell_type": "code",
   "execution_count": 91,
   "metadata": {
    "collapsed": false
   },
   "outputs": [],
   "source": [
    "temp[0]\n",
    "cutoff = datetime.date(2016,5,30)"
   ]
  },
  {
   "cell_type": "code",
   "execution_count": 100,
   "metadata": {
    "collapsed": false
   },
   "outputs": [],
   "source": [
    "train_idx = [i for i,x in enumerate(temp) if x <= cutoff]\n",
    "test_idx = [i for i,x in enumerate(temp) if x > cutoff]"
   ]
  },
  {
   "cell_type": "code",
   "execution_count": 109,
   "metadata": {
    "collapsed": false
   },
   "outputs": [],
   "source": [
    "X_train_compact = X_compact[train_idx,:,:]\n",
    "Y_train_compact = Y_compact[train_idx]\n",
    "X_gen_compact= X_compact[test_idx,:,:]\n",
    "Y_gen_compact = Y_compact[test_idx]"
   ]
  },
  {
   "cell_type": "code",
   "execution_count": 110,
   "metadata": {
    "collapsed": false
   },
   "outputs": [
    {
     "data": {
      "text/plain": [
       "(1080L, 10L, 73L)"
      ]
     },
     "execution_count": 110,
     "metadata": {},
     "output_type": "execute_result"
    }
   ],
   "source": [
    "X_train.shape"
   ]
  },
  {
   "cell_type": "code",
   "execution_count": 111,
   "metadata": {
    "collapsed": false
   },
   "outputs": [
    {
     "data": {
      "text/plain": [
       "(427L, 10L, 73L)"
      ]
     },
     "execution_count": 111,
     "metadata": {},
     "output_type": "execute_result"
    }
   ],
   "source": [
    "X_test.shape"
   ]
  },
  {
   "cell_type": "code",
   "execution_count": 112,
   "metadata": {
    "collapsed": false
   },
   "outputs": [
    {
     "data": {
      "text/plain": [
       "(1080L,)"
      ]
     },
     "execution_count": 112,
     "metadata": {},
     "output_type": "execute_result"
    }
   ],
   "source": [
    "Y_train.shape"
   ]
  },
  {
   "cell_type": "code",
   "execution_count": 117,
   "metadata": {
    "collapsed": true
   },
   "outputs": [],
   "source": [
    "(X_train,Y_train,X_test,Y_test) = audiolearning.train_test_split_audio(X_train_compact,Y_train_compact)"
   ]
  },
  {
   "cell_type": "code",
   "execution_count": 118,
   "metadata": {
    "collapsed": false
   },
   "outputs": [
    {
     "name": "stdout",
     "output_type": "stream",
     "text": [
      "Finished Training Classifier with Training Error:---------------\n",
      "Error for region 0: 0.0000\n",
      "Error for region 1: 0.0097\n",
      "Error for region 2: 0.0000\n",
      "Error for region 3: 0.0000\n",
      "Error for region 4: 0.0000\n",
      "Error for region 5: 0.0115\n",
      "Error for region 6: 0.0000\n",
      "---- Total Training Error: 0.0026\n"
     ]
    },
    {
     "data": {
      "text/plain": [
       "0.002645502645502673"
      ]
     },
     "execution_count": 118,
     "metadata": {},
     "output_type": "execute_result"
    }
   ],
   "source": [
    "svm_gen_clf = audiolearning.Classifier(myPhi);\n",
    "svm_gen_clf.trainSVMBatch(train_samples=None, X_train=X_train,Y_train=Y_train,C=5,gamma=0.001)"
   ]
  },
  {
   "cell_type": "code",
   "execution_count": 125,
   "metadata": {
    "collapsed": false
   },
   "outputs": [
    {
     "name": "stdout",
     "output_type": "stream",
     "text": [
      "-----------------------------------------------------\n",
      "-------------------Testing Error:-------------------\n",
      "Error for region 0: 0.1500\n",
      "Error for region 1: 0.2167\n",
      "Error for region 2: 0.2295\n",
      "Error for region 3: 0.1500\n",
      "Error for region 4: 0.1167\n",
      "Error for region 5: 0.5667\n",
      "Error for region 6: 0.1970\n",
      "---- Total Testing Error: 0.2319\n"
     ]
    }
   ],
   "source": [
    "(_,cm) = svm_gen_clf.testClassifier(test_samples=None,X_test=X_gen_compact,Y_test=Y_gen_compact,get_conf_mat=True)"
   ]
  },
  {
   "cell_type": "code",
   "execution_count": 127,
   "metadata": {
    "collapsed": false
   },
   "outputs": [
    {
     "name": "stdout",
     "output_type": "stream",
     "text": [
      "[[ 0.85    0.1167  0.      0.      0.      0.0333  0.    ]\n",
      " [ 0.0333  0.7833  0.1     0.      0.05    0.0333  0.    ]\n",
      " [ 0.      0.082   0.7705  0.      0.0656  0.      0.082 ]\n",
      " [ 0.      0.1167  0.0167  0.85    0.      0.0167  0.    ]\n",
      " [ 0.      0.0667  0.05    0.      0.8833  0.      0.    ]\n",
      " [ 0.0333  0.35    0.0167  0.0333  0.      0.4333  0.1333]\n",
      " [ 0.      0.0909  0.0152  0.0303  0.0455  0.0152  0.803 ]]\n"
     ]
    }
   ],
   "source": [
    "print np.round(cm.astype('float') / cm.sum(axis=1)[:, np.newaxis],4)"
   ]
  },
  {
   "cell_type": "markdown",
   "metadata": {},
   "source": [
    "\\begin{bmatrix}\n",
    "  0.95726496  &0.03418803  &0.          &0.          &0.          &0.00854701  &0.        \\\\\n",
    "  0.02380952  &0.8952381   &0.02380952  &0.00952381  &0.01904762  &0.02857143  &0.        \\\\\n",
    "  0.          &0.01895735  &0.93364929  &0.          &0.01421801  &0.          &0.03317536\\\\\n",
    "  0.          &0.02702703  &0.0045045   &0.96396396  &0.          &0.0045045   &0.        \\\\\n",
    "  0.          &0.01801802  &0.01801802  &0.          &0.95945946  &0.          &0.0045045 \\\\\n",
    "  0.02604167  &0.15625     &0.00520833  &0.01041667  &0.          &0.765625    &0.03645833\\\\\n",
    "  0.00462963  &0.02777778  &0.00462963  &0.00925926  &0.01388889  &0.00462963  &0.93518519\n",
    "\\end{bmatrix}"
   ]
  },
  {
   "cell_type": "markdown",
   "metadata": {},
   "source": [
    "\\begin{bmatrix}\n",
    " 0.85   & 0.1167 & 0.     & 0.     & 0.     & 0.0333 & 0.    \\\\\n",
    " 0.0333 & 0.7833 & 0.1    & 0.     & 0.05   & 0.0333 & 0.    \\\\\n",
    " 0.     & 0.082  & 0.7705 & 0.     & 0.0656 & 0.     & 0.082 \\\\\n",
    " 0.     & 0.1167 & 0.0167 & 0.85   & 0.     & 0.0167 & 0.    \\\\\n",
    " 0.     & 0.0667 & 0.05   & 0.     & 0.8833 & 0.     & 0.    \\\\\n",
    " 0.0333 & 0.35   & 0.0167 & 0.0333 & 0.     & 0.4333 & 0.1333\\\\\n",
    " 0.     & 0.0909 & 0.0152 & 0.0303 & 0.0455 & 0.0152 & 0.803 \n",
    "\\end{bmatrix}"
   ]
  },
  {
   "cell_type": "code",
   "execution_count": 136,
   "metadata": {
    "collapsed": true
   },
   "outputs": [],
   "source": [
    "def tsne_viz(\n",
    "        mat,\n",
    "        rownames,\n",
    "        colors=None,\n",
    "        output_filename=None,\n",
    "        figheight=40,\n",
    "        figwidth=50):     \n",
    "    \"\"\"2d plot of `mat` using t-SNE, with the points labeled by `rownames`, \n",
    "    aligned with `colors` (defaults to all black).\n",
    "    \n",
    "    Parameters\n",
    "    ----------    \n",
    "    mat : 2d np.array\n",
    "        The matrix to visualize.\n",
    "        \n",
    "    rownames : list of str\n",
    "        Names of the points to visualize.\n",
    "                \n",
    "    colors : list of colornames or None (default: None)\n",
    "        Optional list of colors for rownames. The color names just need to \n",
    "        be interpretable by matplotlib. If they are supplied, they need to \n",
    "        have the same length as rownames, or indices if that is not None. \n",
    "        If `colors=None`, then all the words are displayed in black.\n",
    "      \n",
    "    output_filename : str (default: None)\n",
    "        If not None, then the output image is written to this location. The \n",
    "        filename suffix determines the image type. If None, then \n",
    "        `plt.plot()` is called, with the behavior determined by the \n",
    "        environment.\n",
    "        \n",
    "    figheight : int (default: 40)\n",
    "        Height in display units of the output.\n",
    "            \n",
    "    figwidth : int (default: 50)\n",
    "        Width in display units of the output.\n",
    "        \n",
    "    \"\"\"\n",
    "    indices = list(range(len(rownames)))\n",
    "    # Colors:\n",
    "    if not colors:\n",
    "        colors = ['black' for i in indices]    \n",
    "    # Recommended reduction via PCA or similar:\n",
    "    n_components = 50 \n",
    "    dimreduce = PCA(n_components=n_components)\n",
    "    mat = dimreduce.fit_transform(mat)\n",
    "    # t-SNE:\n",
    "    tsne = TSNE(n_components=2, random_state=0)\n",
    "    np.set_printoptions(suppress=True)    \n",
    "    tsnemat = tsne.fit_transform(mat) \n",
    "    # Plot values:\n",
    "    vocab = np.array(rownames)[indices]\n",
    "    xvals = tsnemat[indices, 0] \n",
    "    yvals = tsnemat[indices, 1]\n",
    "    # Plotting:\n",
    "    fig, ax = plt.subplots(nrows=1, ncols=1)\n",
    "    fig.set_figheight(40)\n",
    "    fig.set_figwidth(50)\n",
    "    ax.plot(xvals, yvals, marker='', linestyle='')\n",
    "    # Text labels:\n",
    "    for word, x, y, color in zip(vocab, xvals, yvals, colors):\n",
    "        ax.annotate(word, (x, y), fontsize=8, color=color)\n",
    "    # Output:\n",
    "    if output_filename:\n",
    "        plt.savefig(output_filename, bbox_inches='tight')\n",
    "    else:\n",
    "        plt.show()"
   ]
  },
  {
   "cell_type": "code",
   "execution_count": 137,
   "metadata": {
    "collapsed": true
   },
   "outputs": [],
   "source": [
    "import os\n",
    "import sys\n",
    "import csv\n",
    "import random\n",
    "import itertools\n",
    "from operator import itemgetter\n",
    "from collections import defaultdict\n",
    "import numpy as np\n",
    "import scipy\n",
    "import scipy.spatial.distance\n",
    "from numpy.linalg import svd\n",
    "import matplotlib.pyplot as plt\n",
    "from sklearn.decomposition import PCA\n",
    "from sklearn.manifold import TSNE"
   ]
  },
  {
   "cell_type": "code",
   "execution_count": 138,
   "metadata": {
    "collapsed": true
   },
   "outputs": [],
   "source": [
    "from scipy.spatial.distance import pdist,squareform"
   ]
  },
  {
   "cell_type": "code",
   "execution_count": 145,
   "metadata": {
    "collapsed": true
   },
   "outputs": [],
   "source": [
    "test = squareform(pdist(phi_X[pi]))"
   ]
  },
  {
   "cell_type": "code",
   "execution_count": 146,
   "metadata": {
    "collapsed": false
   },
   "outputs": [
    {
     "data": {
      "image/png": "[encoded data removed]",
      "text/plain": [
       "<matplotlib.figure.Figure at 0x1312c160>"
      ]
     },
     "metadata": {},
     "output_type": "display_data"
    }
   ],
   "source": [
    "tsne_viz(test,Y_flat[pi])"
   ]
  },
  {
   "cell_type": "code",
   "execution_count": 143,
   "metadata": {
    "collapsed": false
   },
   "outputs": [],
   "source": [
    "pi = np.random.permutation(len(Y_flat))[:100]"
   ]
  },
  {
   "cell_type": "code",
   "execution_count": 1,
   "metadata": {
    "collapsed": false
   },
   "outputs": [
    {
     "ename": "NameError",
     "evalue": "name 'Y' is not defined",
     "output_type": "error",
     "traceback": [
      "\u001b[1;31m---------------------------------------------------------------------------\u001b[0m",
      "\u001b[1;31mNameError\u001b[0m                                 Traceback (most recent call last)",
      "\u001b[1;32m<ipython-input-1-f8caf16cb8f9>\u001b[0m in \u001b[0;36m<module>\u001b[1;34m()\u001b[0m\n\u001b[1;32m----> 1\u001b[1;33m \u001b[0mY\u001b[0m\u001b[1;33m\u001b[0m\u001b[0m\n\u001b[0m",
      "\u001b[1;31mNameError\u001b[0m: name 'Y' is not defined"
     ]
    }
   ],
   "source": [
    "Y"
   ]
  },
  {
   "cell_type": "code",
   "execution_count": null,
   "metadata": {
    "collapsed": true
   },
   "outputs": [],
   "source": []
  }
 ],
 "metadata": {
  "kernelspec": {
   "display_name": "Python 2",
   "language": "python",
   "name": "python2"
  },
  "language_info": {
   "codemirror_mode": {
    "name": "ipython",
    "version": 2
   },
   "file_extension": ".py",
   "mimetype": "text/x-python",
   "name": "python",
   "nbconvert_exporter": "python",
   "pygments_lexer": "ipython2",
   "version": "2.7.11"
  }
 },
 "nbformat": 4,
 "nbformat_minor": 0
}
